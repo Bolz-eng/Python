{
 "cells": [
  {
   "cell_type": "code",
   "execution_count": 5,
   "id": "999e98e7-6bb5-415e-947e-b04f5f930d38",
   "metadata": {},
   "outputs": [
    {
     "name": "stdout",
     "output_type": "stream",
     "text": [
      "25\n"
     ]
    }
   ],
   "source": [
    "\"\"\"Abbiamo 25 studenti; memorizzare questo dato in una variabile e stamparlo a video\"\"\"\n",
    "numero_studenti=25\n",
    "print (numero_studenti)\n"
   ]
  },
  {
   "cell_type": "code",
   "execution_count": 6,
   "id": "c6e836f1-eef9-4922-a523-1d1ab36281a8",
   "metadata": {},
   "outputs": [],
   "source": [
    "\"\"\"Arrivano altri 3 studenti; memorizzare questo dato in un'altra variabile.\"\"\"\n",
    "numero_nuovo_studenti = 3\n"
   ]
  },
  {
   "cell_type": "code",
   "execution_count": 9,
   "id": "76c070f3-8348-4347-874d-ce7ff49f4527",
   "metadata": {},
   "outputs": [
    {
     "name": "stdout",
     "output_type": "stream",
     "text": [
      "28\n"
     ]
    }
   ],
   "source": [
    "\"\"\" Creare un'altra variabile ancora che conterrà la somma delle prime due, poi stamparla a video.\"\"\"\n",
    "numero_tot_studenti = numero_studenti +  numero_nuovo_studenti\n",
    "print (numero_tot_studenti)"
   ]
  },
  {
   "cell_type": "code",
   "execution_count": 10,
   "id": "b3d6d8b8-c72b-411c-9fe8-507ddffe1804",
   "metadata": {},
   "outputs": [
    {
     "data": {
      "text/plain": [
       "28"
      ]
     },
     "execution_count": 10,
     "metadata": {},
     "output_type": "execute_result"
    }
   ],
   "source": [
    "numero_tot_studenti"
   ]
  },
  {
   "cell_type": "code",
   "execution_count": 13,
   "id": "f3bbb3ce-7239-4b55-a839-1c130a3ab929",
   "metadata": {},
   "outputs": [
    {
     "name": "stdout",
     "output_type": "stream",
     "text": [
      "Epicode\n"
     ]
    }
   ],
   "source": [
    "\"\"\"Creare una variabile che contiene la stringa \"Epicode\", quindi stamparla a video.\"\"\"\n",
    "Name = 'Epicode'\n",
    "print (Name)"
   ]
  },
  {
   "cell_type": "code",
   "execution_count": 20,
   "id": "d9e62c53-31f3-4275-af4e-91c876f8e1b5",
   "metadata": {},
   "outputs": [
    {
     "name": "stdout",
     "output_type": "stream",
     "text": [
      "300\n"
     ]
    },
    {
     "data": {
      "text/plain": [
       "300"
      ]
     },
     "execution_count": 20,
     "metadata": {},
     "output_type": "execute_result"
    }
   ],
   "source": [
    "\"\"\"Abbiamo la variabile\"\"\"\n",
    "x=10\n",
    "\"\"\"Incrementarla di 2 e poi moltiplicarla per 3\"\"\"\n",
    "y= (x**2)*3\n",
    "print(y)\n",
    "\"\"\"Usare due metodi diversi \"\"\"\n",
    "x**2*3"
   ]
  },
  {
   "cell_type": "code",
   "execution_count": 23,
   "id": "bdf6df09-4154-4743-919e-a2f4ddce8318",
   "metadata": {},
   "outputs": [
    {
     "name": "stdout",
     "output_type": "stream",
     "text": [
      "Windows è compreso\n",
      "Excel non è compreso\n",
      "Powerpoint non è compreso\n",
      "Word non è compreso\n"
     ]
    }
   ],
   "source": [
    "\"\"\"Verificare, per ognuna delle seguenti stringhe, se il numero di caratteri è compreso tra 5 e 8 \"\"\"\n",
    "\n",
    "str1 = \"Windows\" \n",
    "str2 = \"Excel\" \n",
    "str3 = \"Powerpoint\" \n",
    "str4 = \"Word\"\n",
    "\n",
    "lista=[str1,str2,str3,str4]\n",
    "for stringa in lista:\n",
    "    if 5<len(stringa)<8:\n",
    "        print(stringa + \" è compreso\")\n",
    "    else:\n",
    "        print(stringa + \" non è compreso\")\n"
   ]
  },
  {
   "cell_type": "code",
   "execution_count": 33,
   "id": "6f060e3a-2ba9-42c2-b788-6f0bd2903370",
   "metadata": {},
   "outputs": [
    {
     "name": "stdout",
     "output_type": "stream",
     "text": [
      "31536000\n"
     ]
    }
   ],
   "source": [
    "\"\"\" Calcolare e stampare a video quanti secondi ci sono in un anno non bisestile. \"\"\"\n",
    "secondi_in_minuto = 60\n",
    "secondi_in_ora = 60*60\n",
    "secondi_in_un_giorno = secondi_in_ora * 24\n",
    "secondi_in_anno = secondi_in_un_giorno * 365\n",
    "print (secondi_in_anno)"
   ]
  },
  {
   "cell_type": "code",
   "execution_count": 35,
   "id": "eb7c76a5-42ff-4c47-879f-d18e7b20fcdd",
   "metadata": {},
   "outputs": [
    {
     "data": {
      "text/plain": [
       "'I AM STUDYING PYTHON'"
      ]
     },
     "execution_count": 35,
     "metadata": {},
     "output_type": "execute_result"
    }
   ],
   "source": [
    "\"\"\" Abbiamo la seguente stringa \"\"\"\n",
    "my_string = 'I am studying Python'\n",
    "\n",
    "\"\"\" Trasformarla in modo che tutti i caratteri siano maiuscoli (uppercase) \"\"\"\n",
    "str.upper(my_string)"
   ]
  },
  {
   "cell_type": "code",
   "execution_count": 37,
   "id": "f53605b3-4190-4193-812c-70d4b5e38812",
   "metadata": {},
   "outputs": [
    {
     "data": {
      "text/plain": [
       "'i am studying python'"
      ]
     },
     "execution_count": 37,
     "metadata": {},
     "output_type": "execute_result"
    }
   ],
   "source": [
    "\"\"\" Trasformarla in modo che tutti i caratteri siano minuscoli (lowercase) \"\"\"\n",
    "str.lower(my_string)"
   ]
  },
  {
   "cell_type": "code",
   "execution_count": 40,
   "id": "87cb15d3-caba-40ec-91bd-959adc023b4a",
   "metadata": {},
   "outputs": [
    {
     "data": {
      "text/plain": [
       "'I am studying a lot'"
      ]
     },
     "execution_count": 40,
     "metadata": {},
     "output_type": "execute_result"
    }
   ],
   "source": [
    "\"\"\"Sostituire la sottostringa \"Python\" con la stringa \"a lot\" \"\"\"\n",
    "my_string.replace(\"Python\", \"a lot\")"
   ]
  },
  {
   "cell_type": "code",
   "execution_count": 2,
   "id": "c71d4f1b-7522-452c-9b4f-2d36dded746a",
   "metadata": {},
   "outputs": [
    {
     "data": {
      "text/plain": [
       "'I am studying Python'"
      ]
     },
     "execution_count": 2,
     "metadata": {},
     "output_type": "execute_result"
    }
   ],
   "source": [
    "\"\"\" Usare il metodo .strip(); cambia qualcosa? Perché? \"\"\" \n",
    "\"\"\"non cambia nulla perchè questa funzione restituisce la stringa eliminando gli spazi all'inizio a e alla fine, ma non essendoci spazi di quel tipo, la stringa rimane uguale \"\"\"\n",
    "str.strip('I am studying Python')"
   ]
  },
  {
   "cell_type": "code",
   "execution_count": null,
   "id": "c2492545-9f59-43ed-abbc-af06f1d498c2",
   "metadata": {},
   "outputs": [],
   "source": []
  }
 ],
 "metadata": {
  "kernelspec": {
   "display_name": "Python 3 (ipykernel)",
   "language": "python",
   "name": "python3"
  },
  "language_info": {
   "codemirror_mode": {
    "name": "ipython",
    "version": 3
   },
   "file_extension": ".py",
   "mimetype": "text/x-python",
   "name": "python",
   "nbconvert_exporter": "python",
   "pygments_lexer": "ipython3",
   "version": "3.11.7"
  }
 },
 "nbformat": 4,
 "nbformat_minor": 5
}
