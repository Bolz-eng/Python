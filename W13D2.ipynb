{
 "cells": [
  {
   "cell_type": "code",
   "execution_count": 1,
   "id": "a557b9ae-ca96-4043-b721-6704120f2a57",
   "metadata": {},
   "outputs": [
    {
     "name": "stdout",
     "output_type": "stream",
     "text": [
      "E\n",
      "p\n",
      "i\n",
      "c\n",
      "o\n",
      "d\n",
      "e\n"
     ]
    }
   ],
   "source": [
    "#Abbiamo la stringa: nome_scuola = \"Epicode\" Stampare ogni carattere della stringa, uno su ogni riga, utilizzando un costrutto while.\n",
    "\n",
    "nome_scuola= \"Epicode\"\n",
    "indice = 0\n",
    "while indice < len(nome_scuola):\n",
    "    print (nome_scuola [indice])\n",
    "    indice +=1\n",
    "    "
   ]
  },
  {
   "cell_type": "code",
   "execution_count": 2,
   "id": "35356fb2-2f3a-425f-a320-b40ff238a00a",
   "metadata": {},
   "outputs": [
    {
     "name": "stdout",
     "output_type": "stream",
     "text": [
      "0\n",
      "1\n",
      "2\n",
      "3\n",
      "4\n",
      "5\n",
      "6\n",
      "7\n",
      "8\n",
      "9\n",
      "10\n",
      "11\n",
      "12\n",
      "13\n",
      "14\n",
      "15\n",
      "16\n",
      "17\n",
      "18\n",
      "19\n",
      "20\n"
     ]
    }
   ],
   "source": [
    "#Stampare a video tutti i numeri da 0 a 20 utilizzando il costrutto while. \n",
    "numeri = 0\n",
    "while numeri <=20:\n",
    "    print (numeri)\n",
    "    numeri+=1"
   ]
  },
  {
   "cell_type": "code",
   "execution_count": 3,
   "id": "678137ea-4ef2-4214-9228-8613c7789edf",
   "metadata": {},
   "outputs": [
    {
     "name": "stdout",
     "output_type": "stream",
     "text": [
      "1\n",
      "2\n",
      "4\n",
      "8\n",
      "16\n",
      "32\n",
      "64\n",
      "128\n",
      "256\n",
      "512\n",
      "1024\n"
     ]
    }
   ],
   "source": [
    "#Calcolare e stampare tutte le prime 10 potenze di 2 (e.g., 2⁰, 2¹, 2², …) utilizzando un ciclo while.\n",
    "numero = 2\n",
    "potenze = 0\n",
    "while potenze <= 10:\n",
    "    print(numero**potenze)\n",
    "    potenze+=1\n",
    "      "
   ]
  },
  {
   "cell_type": "code",
   "execution_count": 13,
   "id": "621fe396-e35f-44f3-9705-87886278e0de",
   "metadata": {},
   "outputs": [
    {
     "name": "stdin",
     "output_type": "stream",
     "text": [
      "Inserisci il valore di N:  5\n"
     ]
    },
    {
     "name": "stdout",
     "output_type": "stream",
     "text": [
      "1\n",
      "2\n",
      "4\n",
      "8\n",
      "16\n"
     ]
    }
   ],
   "source": [
    "# Chiedi all'utente di inserire il valore di N\n",
    "N = int(input(\"Inserisci il valore di N: \"))\n",
    "\n",
    "numero = 2\n",
    "potenze = 0\n",
    "\n",
    "while potenze < N:\n",
    "    print(numero ** potenze)\n",
    "    potenze += 1\n"
   ]
  },
  {
   "cell_type": "code",
   "execution_count": 16,
   "id": "5cab076f-0a74-4186-9eec-91ee9e857a61",
   "metadata": {},
   "outputs": [
    {
     "name": "stdout",
     "output_type": "stream",
     "text": [
      "1\n",
      "2\n",
      "4\n",
      "8\n",
      "16\n",
      "32\n",
      "64\n",
      "128\n",
      "256\n",
      "512\n",
      "1024\n",
      "2048\n",
      "4096\n",
      "8192\n",
      "16384\n"
     ]
    }
   ],
   "source": [
    "numero = 2\n",
    "potenza = 0\n",
    "\n",
    "while numero ** potenza < 25000:\n",
    "    print(numero ** potenza)\n",
    "    potenza += 1\n"
   ]
  },
  {
   "cell_type": "code",
   "execution_count": 19,
   "id": "8c5a72c2-ea64-4a0e-9cff-71a568f47033",
   "metadata": {},
   "outputs": [
    {
     "name": "stdout",
     "output_type": "stream",
     "text": [
      "Le liste non sono della stessa lunghezza\n"
     ]
    }
   ],
   "source": [
    "#Abbiamo due liste, una di studenti e una di corsi:\n",
    "studenti = [\"Alex\", \"Bob\", \"Cindy\", \"Dan\", \"Emma\", \"Faith\", \"Grace\", \"Henry\"] \n",
    "corsi = [\"Cybersecurity\", \"Data Analyst\", \"Backend\", \"Frontend\", \"Data Analyst\", \"Backend\"]\n",
    "#Aggiungere i dati mancanti alla lista corsi, sapendo che\n",
    "#Emma segue Data Analyst Faith segue Backend Grace segue Frontend Henry segue Cybersecurity\n",
    "\n",
    "if \"Emma\" not in studenti:\n",
    "    studenti.append(\"Emma\")\n",
    "    corsi.append(\"Data Analyst\")\n",
    "\n",
    "if \"Faith\" not in studenti:\n",
    "    studenti.append(\"Faith\")\n",
    "    corsi.append(\"Backend\")\n",
    "    \n",
    "if \"Grace\" not in studenti:\n",
    "    studenti.append(\"Grace\")\n",
    "    corsi.append(\"Frontend\")\n",
    "    \n",
    "if \"Henry\" not in studenti:\n",
    "    studenti.append(\"Henry\")\n",
    "    corsi.append(\"Backend\")\n",
    "\n",
    "# Verifica se le liste sono della stessa lunghezza e stampa la lista corsi se lo sono\n",
    "\n",
    "if len(studenti)==len(corsi):\n",
    "    print(\"Lista Corsi:\", corsi)\n",
    "else:\n",
    "    print(\"Le liste non sono della stessa lunghezza\")\n",
    "\n",
    "\n"
   ]
  },
  {
   "cell_type": "code",
   "execution_count": 20,
   "id": "e7d754e2-5ece-42f7-9729-c837def27a2b",
   "metadata": {},
   "outputs": [
    {
     "name": "stdin",
     "output_type": "stream",
     "text": [
      "Inserisci una stringa:  paperino\n"
     ]
    },
    {
     "name": "stdout",
     "output_type": "stream",
     "text": [
      "Risultato: pap...ino\n"
     ]
    }
   ],
   "source": [
    "#Scriviamo un programma che chiede in input all'utente una stringa e visualizza i primi 3 caratteri, seguiti da 3 punti di sospensione e quindi gli ultimi 3 caratteri, similmente all'esercizio della lezione scorsa.\n",
    "\n",
    "# Chiedi all'utente di inserire una stringa\n",
    "input_string = input(\"Inserisci una stringa: \")\n",
    "\n",
    "# Controlla la lunghezza della stringa\n",
    "if len(input_string) < 6:\n",
    "    print(\"La stringa inserita è troppo corta. Inserisci almeno 6 caratteri.\")\n",
    "else:\n",
    "    # Estrai e visualizza i primi 3 caratteri\n",
    "    primi_3 = input_string[:3]\n",
    "\n",
    "    # Estrai e visualizza gli ultimi 3 caratteri\n",
    "    ultimi_3 = input_string[-3:]\n",
    "\n",
    "    # Visualizza il risultato\n",
    "    risultato = primi_3 + \"...\" + ultimi_3\n",
    "    print(\"Risultato:\", risultato)\n"
   ]
  },
  {
   "cell_type": "code",
   "execution_count": 23,
   "id": "cb50374c-7715-4f21-8ee2-88e5fe17b756",
   "metadata": {},
   "outputs": [
    {
     "name": "stdin",
     "output_type": "stream",
     "text": [
      "Inserisci un numero intero positivo:  489\n"
     ]
    },
    {
     "name": "stdout",
     "output_type": "stream",
     "text": [
      "I fattori di 489 sono: [1, 3, 163, 489]\n"
     ]
    }
   ],
   "source": [
    "# Chiedi all'utente di inserire un numero intero positivo\n",
    "numero = int(input(\"Inserisci un numero intero positivo: \"))\n",
    "\n",
    "# Verifica che il numero sia positivo\n",
    "if numero <= 0:\n",
    "    print(\"Inserisci un numero intero positivo.\")\n",
    "else:\n",
    "    # Inizializza una lista per memorizzare i fattori\n",
    "    fattori = []\n",
    "\n",
    "    # Trova e memorizza i fattori del numero\n",
    "    for i in range(1, numero + 1):\n",
    "        if numero % i == 0:\n",
    "            fattori.append(i)\n",
    "\n",
    "    # Stampa i fattori\n",
    "    print(f\"I fattori di {numero} sono: {fattori}\")\n"
   ]
  },
  {
   "cell_type": "code",
   "execution_count": 28,
   "id": "953f3d69-807c-4def-b46f-0c78318107b7",
   "metadata": {},
   "outputs": [
    {
     "name": "stdout",
     "output_type": "stream",
     "text": [
      "E\n",
      "p\n",
      "i\n",
      "c\n",
      "o\n",
      "d\n",
      "e\n"
     ]
    }
   ],
   "source": [
    "#Abbiamo la stringa: \n",
    "nome_scuola = \"Epicode\"\n",
    "\n",
    "# Utilizza un ciclo for per stampare ogni carattere su una riga\n",
    "for carattere in nome_scuola:\n",
    "    print(carattere)\n"
   ]
  },
  {
   "cell_type": "code",
   "execution_count": 29,
   "id": "99239bb2-6c76-45c7-90a6-ad44d0c77051",
   "metadata": {},
   "outputs": [
    {
     "name": "stdout",
     "output_type": "stream",
     "text": [
      "2^1 = 2\n",
      "2^2 = 4\n",
      "2^3 = 8\n",
      "2^4 = 16\n",
      "2^5 = 32\n",
      "2^6 = 64\n",
      "2^7 = 128\n",
      "2^8 = 256\n",
      "2^9 = 512\n",
      "2^10 = 1024\n"
     ]
    }
   ],
   "source": [
    "#Calcolare e stampare tutte le prime 10 potenze di 2 utilizzando un ciclo.\n",
    "range_numerico = list()\n",
    "num = 1\n",
    "\n",
    "while num <= 10:\n",
    "    range_numerico.append(num)\n",
    "    num += 1\n",
    "\n",
    "# Utilizza un ciclo for con gli esponenti dalla lista range_numerico\n",
    "for esponente in range_numerico:\n",
    "    risultato = 2 ** esponente\n",
    "    print(f\"2^{esponente} = {risultato}\")\n"
   ]
  },
  {
   "cell_type": "code",
   "execution_count": 31,
   "id": "46cad1f6-b764-4481-ab81-4e69d5f65d15",
   "metadata": {},
   "outputs": [
    {
     "name": "stdin",
     "output_type": "stream",
     "text": [
      "inserire numero 5\n",
      "inserire potenza 8\n"
     ]
    },
    {
     "name": "stdout",
     "output_type": "stream",
     "text": [
      "lista risultante [1]\n",
      "lista risultante [1, 5]\n",
      "lista risultante [1, 5, 25]\n",
      "lista risultante [1, 5, 25, 125]\n",
      "lista risultante [1, 5, 25, 125, 625]\n",
      "lista risultante [1, 5, 25, 125, 625, 3125]\n",
      "lista risultante [1, 5, 25, 125, 625, 3125, 15625]\n",
      "lista risultante [1, 5, 25, 125, 625, 3125, 15625, 78125]\n"
     ]
    }
   ],
   "source": [
    "#Calcolare (ma non stampare) le prime N potenze di K; ognuna di esse andrà memorizzata in coda a una lista. \n",
    "#Alla fine, stampare la lista risultante. Proviamo con diversi valori di K, oppure facciamola inserire all'utente. \n",
    "\n",
    "K = int(input(\"inserire numero\"))\n",
    "N = int(input(\"inserire potenza\"))\n",
    "\n",
    "potenze_K = list()\n",
    "\n",
    "for esponente in range(N):\n",
    "    potenza = K**esponente\n",
    "    potenze_K.append(potenza)\n",
    "    print(\"lista risultante\", potenze_K)\n",
    "    \n",
    "    "
   ]
  },
  {
   "cell_type": "code",
   "execution_count": 33,
   "id": "eb844880-4dd4-496c-96ea-f251de1b9f47",
   "metadata": {},
   "outputs": [
    {
     "name": "stdin",
     "output_type": "stream",
     "text": [
      "inserire numero 5\n",
      "inserire potenza 8\n"
     ]
    },
    {
     "name": "stdout",
     "output_type": "stream",
     "text": [
      "lista risultante [78125]\n"
     ]
    }
   ],
   "source": [
    "#versione con ciclo while\n",
    "K = int(input(\"inserire numero\"))\n",
    "N = int(input(\"inserire potenza\"))\n",
    "\n",
    "potenze_K = list()\n",
    "espondente=0\n",
    "while esponente < N:\n",
    "    potenza = K**esponente\n",
    "    potenze_K.append(potenza)\n",
    "    esponente +=1\n",
    "    print(\"lista risultante\", potenze_K)\n"
   ]
  },
  {
   "cell_type": "code",
   "execution_count": 40,
   "id": "f32cd500-298e-45b3-adfe-662a41c0e99b",
   "metadata": {},
   "outputs": [
    {
     "name": "stdout",
     "output_type": "stream",
     "text": [
      "Media dei guadagni è: 70.0\n"
     ]
    }
   ],
   "source": [
    "#Abbiamo una lista con i guadagni degli ultimi 12 mesi:\n",
    "guadagni = [100, 90, 70, 40, 50, 80, 90, 120, 80, 20, 50, 50] \n",
    "\n",
    "#calcolare la media dei guadagni e stamparla a video.\n",
    "somma_guadagni = 0\n",
    "\n",
    "for guadagno in guadagni:\n",
    "    somma_guadagni+= guadagno\n",
    "    \n",
    "media_guadagni = somma_guadagni/len(guadagni)\n",
    "    \n",
    "print(f\"Media dei guadagni è: {media_guadagni}\")\n",
    "\n",
    "    "
   ]
  },
  {
   "cell_type": "code",
   "execution_count": null,
   "id": "1e60c345-5c58-4f3e-8b97-19849902d8bd",
   "metadata": {},
   "outputs": [],
   "source": [
    "#Esercizio Abbiamo una lista di parole:\n",
    "parole = [\"Albergo\", \"Sedia\", \"Borgo\", \"Petalo\", \"Eremo\", \"Belvedere\", \"Semestre\", \"Esteta\", \"Sosta\", \"Orpello\", \"Abete\", \"Orologio\", \"Cesta\", \"Ermellino\"] \n",
    "#stampiamo, per ogni parola, quante volte appare la lettera \"e\"\n"
   ]
  }
 ],
 "metadata": {
  "kernelspec": {
   "display_name": "Python 3 (ipykernel)",
   "language": "python",
   "name": "python3"
  },
  "language_info": {
   "codemirror_mode": {
    "name": "ipython",
    "version": 3
   },
   "file_extension": ".py",
   "mimetype": "text/x-python",
   "name": "python",
   "nbconvert_exporter": "python",
   "pygments_lexer": "ipython3",
   "version": "3.11.7"
  }
 },
 "nbformat": 4,
 "nbformat_minor": 5
}
